{
 "cells": [
  {
   "cell_type": "code",
   "execution_count": 12,
   "metadata": {},
   "outputs": [],
   "source": [
    "import collections\n",
    "import pandas as pd\n",
    "from natto import MeCab\n",
    "parser = MeCab()\n",
    "\n",
    "import termextract.mecab\n",
    "import termextract.core"
   ]
  },
  {
   "cell_type": "code",
   "execution_count": 13,
   "metadata": {},
   "outputs": [],
   "source": [
    "df = pd.read_csv(\"./data/sample2.csv\")\n",
    "df2 = pd.read_csv(\"./data/2000tags.csv\")\n",
    "\n",
    "tags = df2[\"タグ\"].values\n",
    "tags = [s.replace(\"#\",\"\") for s in tags]"
   ]
  },
  {
   "cell_type": "code",
   "execution_count": 14,
   "metadata": {},
   "outputs": [
    {
     "data": {
      "text/plain": [
       "'今日は午前中だけ仕事して、午後医者に行き、夕方はホームレスのお友達からお寿司をおごってもらった弾丸スケジュールは誰得情報なのよ？のタマちゃんこと、ドクターストップ間近です。noteを書きましょう。さて今日は、「手を洗うこと」という当たり前の話しをいかにもスゴそうにお話ししてみたいと思います。＿＿＿＿＿＿＿＿＿＿＿＿＿＿＿＿＿＿＿＿ボクが常々心がけていることで、「ああ、これはみなさんにおすすめしたいなあ」と思う、ちょっとした、おまじないがあります。#宗教じゃないよすごく簡単で誰でもできることだけれど、確実に気持ちが変わると思います。いや、変わります。一日にメリハリがついて、心がスッキリします。それは手を洗うこと。何も潔癖症になれ！というのではありません。外出後や食事前、汚れたときに洗うほかに、何か作業をしていてひとつのことが終わるたびに、手を洗うという習慣です。たとえば「午前中はメールの返信をする」と決めたなら、打ち終わったときに手を洗います。もちろん手は汚れてなどいませんが、流れる水にふれ、いったん手をきれいにしてから、次の仕事に取りかかるというイメージです。手を洗うと気持ちも切り替わるし、自分の心がリセットされます。何より、「一つひとつのことに、あたらしいきれいな手で取り組む」という心がけになります。また、自分の手をいつくしみ、いつも清潔にしておくということにつながります。家でもカフェでも会社でも、席を立ち、ちょっと手を洗うだけならば、さほど時間もかかりませんし、面倒くさいということもないでしょう。まめに洗うので、荒れてしまうのを防ぐために石鹸は使わず、水だけでさらさらと洗うようにしています。ちょっと嫌なことがあったり、理由もなく気持ちがざわざわと落ち着かなかったり、なんだかいらいらしたり。そんなときも、流れる水で手を洗うと、とにかくすっきりするのです。「水に流す」という言葉がありますが、わだかまりが指先を伝って洗い流されていく感覚です。ちょっと長めに手を洗うと、だいたい収まります。それでもなかなか気持ちが変わらないときは、口をゆすぐことをおすすめします。水を口に含んでそっと吐き出す。この単純な繰り返しが、不安やいらいらを治してくれるので、ぜひ試していただきたいと思います。小さなイライラは、こまめに水に流しちゃいましょう。手を洗うだけで心はリセットできますよ。禊が大好きな現場からは以上でーす。'"
      ]
     },
     "execution_count": 14,
     "metadata": {},
     "output_type": "execute_result"
    }
   ],
   "source": [
    "df.loc[0][\"content\"]"
   ]
  },
  {
   "cell_type": "code",
   "execution_count": 17,
   "metadata": {},
   "outputs": [
    {
     "name": "stdout",
     "output_type": "stream",
     "text": [
      "父\t10.0\n",
      "母\t10.0\n",
      "家\t2.0\n",
      "心\t2.0\n",
      "気持ち\t2.0\n"
     ]
    }
   ],
   "source": [
    "# 文書を読み込む\n",
    "tagged_text = df.loc[1][\"content\"]\n",
    "\n",
    "test = parser.parse(tagged_text)\n",
    "\n",
    "# 複合語を抽出し、重要度を算出\n",
    "frequency = termextract.mecab.cmp_noun_dict(test)\n",
    "LR = termextract.core.score_lr(frequency,\n",
    "         ignore_words=termextract.mecab.IGNORE_WORDS,\n",
    "         lr_mode=1, average_rate=1\n",
    "     )\n",
    "term_imp = termextract.core.term_importance(frequency, LR)\n",
    "\n",
    "# 重要度が高い順に並べ替えて出力\n",
    "data_collection = collections.Counter(term_imp).most_common()\n",
    "# top2000にあるタグのみを抽出\n",
    "data_collection = list(filter(lambda x: x[0] in tags, data_collection))\n",
    "\n",
    "# 重要度top5を表示\n",
    "for cmp_noun, value in data_collection[:5]:\n",
    "    print(termextract.core.modify_agglutinative_lang(cmp_noun), value, sep=\"\\t\")"
   ]
  },
  {
   "cell_type": "code",
   "execution_count": 18,
   "metadata": {},
   "outputs": [
    {
     "data": {
      "text/plain": [
       "\"['#日記', '#エッセイ', '#母', '#父', '#ほぼ毎日note', '#やさしさにふれて', '#ショートエッセイ', '#長女', '#兄', '#長男', '#すきしてみて', '#独り暮らし', '#寂しがり屋', '#見送り', '#家内']\""
      ]
     },
     "execution_count": 18,
     "metadata": {},
     "output_type": "execute_result"
    }
   ],
   "source": [
    "df.loc[1][\"tags\"]"
   ]
  },
  {
   "cell_type": "code",
   "execution_count": null,
   "metadata": {},
   "outputs": [],
   "source": []
  }
 ],
 "metadata": {
  "kernelspec": {
   "display_name": "Python 3",
   "language": "python",
   "name": "python3"
  },
  "language_info": {
   "codemirror_mode": {
    "name": "ipython",
    "version": 3
   },
   "file_extension": ".py",
   "mimetype": "text/x-python",
   "name": "python",
   "nbconvert_exporter": "python",
   "pygments_lexer": "ipython3",
   "version": "3.8.5"
  }
 },
 "nbformat": 4,
 "nbformat_minor": 4
}
